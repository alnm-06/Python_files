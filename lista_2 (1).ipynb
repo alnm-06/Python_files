{
  "nbformat": 4,
  "nbformat_minor": 0,
  "metadata": {
    "colab": {
      "provenance": []
    },
    "kernelspec": {
      "name": "python3",
      "display_name": "Python 3"
    },
    "language_info": {
      "name": "python"
    }
  },
  "cells": [
    {
      "cell_type": "code",
      "execution_count": null,
      "metadata": {
        "colab": {
          "base_uri": "https://localhost:8080/"
        },
        "id": "gVpqqQwZCExm",
        "outputId": "2d256ba0-a232-426a-e16c-0f36939b2e47"
      },
      "outputs": [
        {
          "output_type": "stream",
          "name": "stdout",
          "text": [
            "digite um número negativo para parar\n",
            "\n",
            "Informe um valor: 7\n",
            "\n",
            "Informe um valor: 9\n",
            "2\n",
            "\n",
            "Informe um valor: 8\n",
            "3\n",
            "\n",
            "Informe um valor: -1\n",
            "4\n",
            "\n",
            "sua média é 8.0\n"
          ]
        }
      ],
      "source": [
        "print(\"digite um número negativo para parar\")\n",
        "num1 = int(input(\"\\nInforme um valor: \"))\n",
        "soma = num1\n",
        "cont = 1\n",
        "while num1>=0 and cont >= 1:\n",
        "  num1 = int(input(\"\\nInforme um valor: \"))\n",
        "  soma = soma + num1\n",
        "  cont = cont + 1\n",
        "  print(cont)\n",
        "else:\n",
        "  soma = soma - num1\n",
        "  cont = cont - 1\n",
        "  med = soma/cont\n",
        "  print(f\"\\nsua média é {med}\")"
      ]
    },
    {
      "cell_type": "code",
      "source": [
        "print(\"digite um 0 para parar\")\n",
        "val = int(input(\"\\nInforme um valor: \"))\n",
        "cont_pos = 0\n",
        "cont_neg = 0\n",
        "if val > 0:\n",
        "  cont_pos +=  1\n",
        "elif val < 0:\n",
        "  cont_neg +=  1\n",
        "while val > 0 or val < 0:\n",
        "  val = int(input(\"\\nInforme um valor: \"))\n",
        "  if val > 0:\n",
        "    cont_pos +=  1\n",
        "  elif val < 0:\n",
        "    cont_neg +=  1\n",
        "else:\n",
        "  print(f\"\\nforam informados {cont_pos} número(s) positivo(s) e {cont_neg} número(s) negativo(s).\")\n"
      ],
      "metadata": {
        "colab": {
          "base_uri": "https://localhost:8080/"
        },
        "id": "YCoNBZ2zDCCW",
        "outputId": "23bc0398-a02d-417e-aba4-908eabb19cb2"
      },
      "execution_count": null,
      "outputs": [
        {
          "output_type": "stream",
          "name": "stdout",
          "text": [
            "digite um 0 para parar\n",
            "\n",
            "Informe um valor: 1\n",
            "\n",
            "Informe um valor: 1\n",
            "\n",
            "Informe um valor: -1\n",
            "\n",
            "Informe um valor: -1\n",
            "\n",
            "Informe um valor: 0\n",
            "\n",
            "foram informados 2 número(s) positivo(s) e 2 número(s) negativo(s).\n"
          ]
        }
      ]
    },
    {
      "cell_type": "code",
      "source": [
        "val = int(input(\"\\nInforme um valor: \"))\n",
        "while val not in range(0 , 10):\n",
        "  print(\"\\nvalor inválido\")\n",
        "  val = int(input(\"\\nInforme um valor: \"))\n",
        "else:\n",
        "  print(\"\\nvalor válido\")"
      ],
      "metadata": {
        "colab": {
          "base_uri": "https://localhost:8080/"
        },
        "id": "tklWojyCENLT",
        "outputId": "bb8ad3be-848e-4689-dac3-b07688624d18"
      },
      "execution_count": null,
      "outputs": [
        {
          "output_type": "stream",
          "name": "stdout",
          "text": [
            "\n",
            "Informe um valor: 11\n",
            "\n",
            "valor inválido\n",
            "\n",
            "Informe um valor: 12\n",
            "\n",
            "valor inválido\n",
            "\n",
            "Informe um valor: 12\n",
            "\n",
            "valor inválido\n",
            "\n",
            "Informe um valor: 12\n",
            "\n",
            "valor inválido\n",
            "\n",
            "Informe um valor: 12\n",
            "\n",
            "valor inválido\n",
            "\n",
            "Informe um valor: 12\n",
            "\n",
            "valor inválido\n",
            "\n",
            "Informe um valor: 3\n",
            "\n",
            "valor válido\n"
          ]
        }
      ]
    },
    {
      "cell_type": "code",
      "source": [
        "Orçamento = float(input(\"Informe o valor do seu orçamento, ele deve ser igual ou acima de 100 reais: \"))\n",
        "if Orçamento < 100:\n",
        "  print(\"\\nOrçamento muito baixo.\")\n",
        "else:\n",
        "  serviço1 = float(input(\"Informe o valor de um dos serviços que seram pagos pelo orçamento: \"))\n",
        "  serviços = serviço1\n",
        "  while serviços < Orçamento:\n",
        "    serviço1 = float(input(\"Informe o valor de um dos serviços que seram pagos pelo orçamento: \"))\n",
        "    serviços = serviços + serviço1\n",
        "  else:\n",
        "    print(\"Valor do orçamento foi alcançado ou estourado2, não é possível adicionar mais nenhum serviço.\")\n"
      ],
      "metadata": {
        "colab": {
          "base_uri": "https://localhost:8080/"
        },
        "id": "vKSx0C2POsiJ",
        "outputId": "ebddd76e-4269-475e-f3b4-9fb2efcdcc5f"
      },
      "execution_count": null,
      "outputs": [
        {
          "output_type": "stream",
          "name": "stdout",
          "text": [
            "Informe o valor do seu orçamento, ele deve ser igual ou acima de 100 reais: 100\n",
            "Informe o valor de um dos serviços que seram pagos pelo orçamento: 90\n",
            "Informe o valor de um dos serviços que seram pagos pelo orçamento: 20\n",
            "Valor do orçamento foi alcançado ou estourado2, não é possível adicionar mais nenhum serviço.\n"
          ]
        }
      ]
    },
    {
      "cell_type": "code",
      "source": [
        "nome = input(\"informe seu nome (acima de 3 caracteres): \")\n",
        "while len(nome)<3:\n",
        "  nome = input(\"informe seu nome (acima de 3 caracteres): \")\n",
        "idade = int(input(\"\\ninforme sua idade (entre 0 e 150): \"))\n",
        "while idade not in range (0,150):\n",
        "  idade = int(input(\"informe sua idade (entre 0 e 150): \"))\n",
        "denhero = float(input(\"\\ninforme seu salário (maior que 0):\"))\n",
        "while denhero <= 0:\n",
        "  denhero = float(input(\"informe seu salário (maior que 0):\"))\n",
        "sexo = input(\"\\ninforme seu sexo como 'f' ou 'm': \")\n",
        "while sexo not in (\"f\" , \"m\"):\n",
        "  sexo = input(\"informe seu sexo como 'f' ou 'm': \")\n",
        "est_civ = input(\"\\ninforme seu estado civil como 's', 'c', 'v' ou 'd': \")\n",
        "while est_civ not in (\"s\" , \"c\" , \"v\" , \"d\"):\n",
        "  est_civ = input(\"informe seu estado civil como 's', 'c', 'v' ou 'd': \")\n",
        "print(f\"\\nseu nome é {nome}, sua idade é {idade}, seu salário é {denhero}, seu sexo é {sexo} e seu estado civil é {est_civ}.\")"
      ],
      "metadata": {
        "colab": {
          "base_uri": "https://localhost:8080/"
        },
        "id": "jQ8G94aRTsJf",
        "outputId": "bc61185b-e7a0-495b-f32c-143c559fe35d"
      },
      "execution_count": null,
      "outputs": [
        {
          "output_type": "stream",
          "name": "stdout",
          "text": [
            "informe seu nome (acima de 3 caracteres): andré\n",
            "\n",
            "informe sua idade (entre 0 e 150): 2\n",
            "\n",
            "informe seu salário (maior que 0):2\n",
            "\n",
            "informe seu sexo como 'f' ou 'm': m\n",
            "\n",
            "informe seu estado civil como 's', 'c', 'v' ou 'd': s\n",
            "seu nome é andré, sua idade é 2, seu salário é 2.0, seu sexo é m e seu estado civil é s.\n"
          ]
        }
      ]
    },
    {
      "cell_type": "code",
      "source": [
        "base =int(input(\"Informe um valor para ser o número base: \"))\n",
        "expoente =int(input(\"Informe um valor para ser o número expoente: \"))\n",
        "contador = 0\n",
        "pot = 1\n",
        "while base <= 0 or expoente <= 0:\n",
        "  base =int(input(\"Informe um valor para ser o número base: \"))\n",
        "  expoente =int(input(\"Informe um valor para ser o número expoente: \"))\n",
        "while contador < expoente:\n",
        "        pot *= base\n",
        "        contador += 1\n",
        "print(f\"o valor da potenciação será {pot}\")"
      ],
      "metadata": {
        "colab": {
          "base_uri": "https://localhost:8080/"
        },
        "id": "Bl1neexJf6zU",
        "outputId": "a2304ab3-ddf6-4762-b216-9cdca93b55d0"
      },
      "execution_count": null,
      "outputs": [
        {
          "output_type": "stream",
          "name": "stdout",
          "text": [
            "Informe um valor para ser o número base: 2\n",
            "Informe um valor para ser o número expoente: 3\n",
            "o valor da potenciação será 8\n"
          ]
        }
      ]
    },
    {
      "cell_type": "code",
      "source": [
        "val = int(input(\"Informe um valor: \"))\n",
        "i = 1\n",
        "for i in range(0,11):\n",
        "  print(f\"{val:2d} X {i:2d} = {(val * i):2d} \")\n",
        "\n",
        "\n",
        "#Não é possível usar while na construção destre programa, o uso do while crirá um loop em que a saída será sempre a mesma e será infinitamente repetida."
      ],
      "metadata": {
        "colab": {
          "base_uri": "https://localhost:8080/"
        },
        "id": "XgCRL3QCnTE5",
        "outputId": "6eb12936-1457-48a9-a9ab-57ade02420d4"
      },
      "execution_count": null,
      "outputs": [
        {
          "output_type": "stream",
          "name": "stdout",
          "text": [
            "Informe um valor: 800\n",
            "800 X  0 =  0 \n",
            "800 X  1 = 800 \n",
            "800 X  2 = 1600 \n",
            "800 X  3 = 2400 \n",
            "800 X  4 = 3200 \n",
            "800 X  5 = 4000 \n",
            "800 X  6 = 4800 \n",
            "800 X  7 = 5600 \n",
            "800 X  8 = 6400 \n",
            "800 X  9 = 7200 \n",
            "800 X 10 = 8000 \n"
          ]
        }
      ]
    },
    {
      "cell_type": "code",
      "source": [
        "#não consegui fazer\n",
        "val = int(input(\"Informe um valor: \"))\n",
        "i = 1\n",
        "for i in range(0, 9, 1):\n",
        "  print(i)"
      ],
      "metadata": {
        "colab": {
          "base_uri": "https://localhost:8080/"
        },
        "id": "T6vRGNE234Qz",
        "outputId": "cb88a3f1-3a9a-45a0-b2f1-c72d00b934f5"
      },
      "execution_count": null,
      "outputs": [
        {
          "output_type": "stream",
          "name": "stdout",
          "text": [
            "Informe um valor: 1\n",
            "0\n",
            "1\n",
            "2\n",
            "3\n",
            "4\n",
            "5\n",
            "6\n",
            "7\n",
            "8\n"
          ]
        }
      ]
    },
    {
      "cell_type": "code",
      "source": [
        "val = int(input(\"Informe um valor não negativo: \"))\n",
        "n = val\n",
        "mult = val\n",
        "while val < 0:\n",
        "  val = int(input(\"Informe um valor não negativo: \"))\n",
        "while mult > 1:\n",
        "  mult = mult - 1\n",
        "  val = val * mult\n",
        "print(f\"o fatorial do número {n} é {val}\")\n"
      ],
      "metadata": {
        "id": "w7JKxTPE6M-r",
        "colab": {
          "base_uri": "https://localhost:8080/"
        },
        "outputId": "3a4f37c4-0dc7-4111-fb0a-011621d1f015"
      },
      "execution_count": null,
      "outputs": [
        {
          "output_type": "stream",
          "name": "stdout",
          "text": [
            "Informe um valor não negativo: 800\n",
            "o fatorial do número 800 é 771053011335386004144639397775028360595556401816010239163410994033970851827093069367090769795539033092647861224230677444659785152639745401480184653174909762504470638274259120173309701702610875092918816846985842150593623718603861642063078834117234098513725265045402523056575658860621238870412640219629971024686826624713383660963127048195572279707711688352620259869140994901287895747290410722496106151954257267396322405556727354786893725785838732404646243357335918597747405776328924775897564519583591354080898117023132762250714057271344110948164029940588827847780442314473200479525138318208302427727803133219305210952507605948994314345449325259594876385922128494560437296428386002940601874072732488897504223793518377180605441783116649708269946061380230531018291930510748665577803014523251797790388615033756544830374909440162270182952303329091720438210637097105616258387051884030288933650309756289188364568672104084185529365727646234588306683493594765274559497543759651733699820639731702116912963247441294200297800087061725868223880865243583365623482704395893652711840735418799773763054887588219943984673401051362280384187818611005035187862707840912942753454646054674870155072495767509778534059298038364204076299048072934501046255175378323008217670731649519955699084482330798811049166276249251326544312580289357812924825898217462848297648349400838815410152872456707653654424335818651136964880049831580548028614922852377435001511377656015730959254647171290930517340367287657007606177675483830521499707873449016844402390203746633086969747680671468541687265823637922007413849118593487710272883164905548707198762911703545119701275432473548172544699118836274377270607420652133092686282081777383674487881628800801928103015832821021286322120460874941697199487758769730544922012389694504960000000000000000000000000000000000000000000000000000000000000000000000000000000000000000000000000000000000000000000000000000000000000000000000000000000000000000000000000000000000000000000000000000000\n"
          ]
        }
      ]
    },
    {
      "cell_type": "code",
      "source": [
        "val = int(input(\"Informe um valor: \"))\n",
        "n_primo = val%1 == 0 and val%val ==0\n",
        "if n_primo == True:\n",
        "  if val == 2 or val==3 or val==5 or val==7:\n",
        "    print(\"número primo\")\n",
        "  elif val%2 == 0 or val%3 == 0 or val%5 == 0 or val%7 == 0 or val%10 == 0:\n",
        "    print(\"número não primo\")\n",
        "  else:\n",
        "    print(\"número primo\")"
      ],
      "metadata": {
        "colab": {
          "base_uri": "https://localhost:8080/"
        },
        "id": "nXFCxPOAJtCR",
        "outputId": "35ad367a-1fd4-4e7b-b4a0-652ee5233f6d"
      },
      "execution_count": null,
      "outputs": [
        {
          "output_type": "stream",
          "name": "stdout",
          "text": [
            "Informe um valor: 809\n",
            "número primo\n"
          ]
        }
      ]
    },
    {
      "cell_type": "code",
      "source": [
        "#não consegui fazer\n",
        "val = int(input(\"Informe um valor: \"))\n",
        "val2 = int(input(\"Informe um outro valor: \"))\n",
        "i = 1\n",
        "for i in range(1,10):\n",
        "  if i != 0:\n",
        "    i = val/i\n",
        "    print(i)\n"
      ],
      "metadata": {
        "colab": {
          "base_uri": "https://localhost:8080/",
          "height": 356
        },
        "id": "OmHw-B2UXKwY",
        "outputId": "168a08cb-7cec-40a9-a9ce-58ef208d4cef"
      },
      "execution_count": null,
      "outputs": [
        {
          "output_type": "error",
          "ename": "KeyboardInterrupt",
          "evalue": "Interrupted by user",
          "traceback": [
            "\u001b[0;31m---------------------------------------------------------------------------\u001b[0m",
            "\u001b[0;31mKeyboardInterrupt\u001b[0m                         Traceback (most recent call last)",
            "\u001b[0;32m<ipython-input-21-ec42e6bc9676>\u001b[0m in \u001b[0;36m<cell line: 0>\u001b[0;34m()\u001b[0m\n\u001b[0;32m----> 1\u001b[0;31m \u001b[0mval\u001b[0m \u001b[0;34m=\u001b[0m \u001b[0mint\u001b[0m\u001b[0;34m(\u001b[0m\u001b[0minput\u001b[0m\u001b[0;34m(\u001b[0m\u001b[0;34m\"Informe um valor: \"\u001b[0m\u001b[0;34m)\u001b[0m\u001b[0;34m)\u001b[0m\u001b[0;34m\u001b[0m\u001b[0;34m\u001b[0m\u001b[0m\n\u001b[0m\u001b[1;32m      2\u001b[0m \u001b[0mval2\u001b[0m \u001b[0;34m=\u001b[0m \u001b[0mint\u001b[0m\u001b[0;34m(\u001b[0m\u001b[0minput\u001b[0m\u001b[0;34m(\u001b[0m\u001b[0;34m\"Informe um outro valor: \"\u001b[0m\u001b[0;34m)\u001b[0m\u001b[0;34m)\u001b[0m\u001b[0;34m\u001b[0m\u001b[0;34m\u001b[0m\u001b[0m\n\u001b[1;32m      3\u001b[0m \u001b[0mi\u001b[0m \u001b[0;34m=\u001b[0m \u001b[0;36m1\u001b[0m\u001b[0;34m\u001b[0m\u001b[0;34m\u001b[0m\u001b[0m\n\u001b[1;32m      4\u001b[0m \u001b[0;32mfor\u001b[0m \u001b[0mi\u001b[0m \u001b[0;32min\u001b[0m \u001b[0mrange\u001b[0m\u001b[0;34m(\u001b[0m\u001b[0;36m1\u001b[0m\u001b[0;34m,\u001b[0m\u001b[0;36m10\u001b[0m\u001b[0;34m)\u001b[0m\u001b[0;34m:\u001b[0m\u001b[0;34m\u001b[0m\u001b[0;34m\u001b[0m\u001b[0m\n\u001b[1;32m      5\u001b[0m   \u001b[0;32mif\u001b[0m \u001b[0mi\u001b[0m \u001b[0;34m!=\u001b[0m \u001b[0;36m0\u001b[0m\u001b[0;34m:\u001b[0m\u001b[0;34m\u001b[0m\u001b[0;34m\u001b[0m\u001b[0m\n",
            "\u001b[0;32m/usr/local/lib/python3.11/dist-packages/ipykernel/kernelbase.py\u001b[0m in \u001b[0;36mraw_input\u001b[0;34m(self, prompt)\u001b[0m\n\u001b[1;32m   1175\u001b[0m                 \u001b[0;34m\"raw_input was called, but this frontend does not support input requests.\"\u001b[0m\u001b[0;34m\u001b[0m\u001b[0;34m\u001b[0m\u001b[0m\n\u001b[1;32m   1176\u001b[0m             )\n\u001b[0;32m-> 1177\u001b[0;31m         return self._input_request(\n\u001b[0m\u001b[1;32m   1178\u001b[0m             \u001b[0mstr\u001b[0m\u001b[0;34m(\u001b[0m\u001b[0mprompt\u001b[0m\u001b[0;34m)\u001b[0m\u001b[0;34m,\u001b[0m\u001b[0;34m\u001b[0m\u001b[0;34m\u001b[0m\u001b[0m\n\u001b[1;32m   1179\u001b[0m             \u001b[0mself\u001b[0m\u001b[0;34m.\u001b[0m\u001b[0m_parent_ident\u001b[0m\u001b[0;34m[\u001b[0m\u001b[0;34m\"shell\"\u001b[0m\u001b[0;34m]\u001b[0m\u001b[0;34m,\u001b[0m\u001b[0;34m\u001b[0m\u001b[0;34m\u001b[0m\u001b[0m\n",
            "\u001b[0;32m/usr/local/lib/python3.11/dist-packages/ipykernel/kernelbase.py\u001b[0m in \u001b[0;36m_input_request\u001b[0;34m(self, prompt, ident, parent, password)\u001b[0m\n\u001b[1;32m   1217\u001b[0m             \u001b[0;32mexcept\u001b[0m \u001b[0mKeyboardInterrupt\u001b[0m\u001b[0;34m:\u001b[0m\u001b[0;34m\u001b[0m\u001b[0;34m\u001b[0m\u001b[0m\n\u001b[1;32m   1218\u001b[0m                 \u001b[0;31m# re-raise KeyboardInterrupt, to truncate traceback\u001b[0m\u001b[0;34m\u001b[0m\u001b[0;34m\u001b[0m\u001b[0m\n\u001b[0;32m-> 1219\u001b[0;31m                 \u001b[0;32mraise\u001b[0m \u001b[0mKeyboardInterrupt\u001b[0m\u001b[0;34m(\u001b[0m\u001b[0;34m\"Interrupted by user\"\u001b[0m\u001b[0;34m)\u001b[0m \u001b[0;32mfrom\u001b[0m \u001b[0;32mNone\u001b[0m\u001b[0;34m\u001b[0m\u001b[0;34m\u001b[0m\u001b[0m\n\u001b[0m\u001b[1;32m   1220\u001b[0m             \u001b[0;32mexcept\u001b[0m \u001b[0mException\u001b[0m\u001b[0;34m:\u001b[0m\u001b[0;34m\u001b[0m\u001b[0;34m\u001b[0m\u001b[0m\n\u001b[1;32m   1221\u001b[0m                 \u001b[0mself\u001b[0m\u001b[0;34m.\u001b[0m\u001b[0mlog\u001b[0m\u001b[0;34m.\u001b[0m\u001b[0mwarning\u001b[0m\u001b[0;34m(\u001b[0m\u001b[0;34m\"Invalid Message:\"\u001b[0m\u001b[0;34m,\u001b[0m \u001b[0mexc_info\u001b[0m\u001b[0;34m=\u001b[0m\u001b[0;32mTrue\u001b[0m\u001b[0;34m)\u001b[0m\u001b[0;34m\u001b[0m\u001b[0;34m\u001b[0m\u001b[0m\n",
            "\u001b[0;31mKeyboardInterrupt\u001b[0m: Interrupted by user"
          ]
        }
      ]
    },
    {
      "cell_type": "code",
      "source": [
        "p_termo = int(input(\"Informe o primeiro termo da PA: \"))\n",
        "razão = int(input(\"Informe a razão: \"))\n",
        "n = int(input(\"Informe o número de termos a serem descobertos: \"))\n",
        "contador = 0\n",
        "print(\"\\nSegue o desenvolvimento da PA:\")\n",
        "while contador < n:\n",
        "  contador += 1\n",
        "  PA = p_termo + (contador - 1) * razão\n",
        "  print(PA)\n",
        "\n"
      ],
      "metadata": {
        "id": "H9vhKT77r9N4",
        "colab": {
          "base_uri": "https://localhost:8080/"
        },
        "outputId": "6931185b-a073-41ff-8e65-ab34afa7607f"
      },
      "execution_count": null,
      "outputs": [
        {
          "output_type": "stream",
          "name": "stdout",
          "text": [
            "Informe o primeiro termo da PA: 26\n",
            "Informe a razão: 5\n",
            "Informe o número de termos a serem descobertos: 10\n",
            "\n",
            "Segue o desenvolvimento da PA:\n",
            "26\n",
            "31\n",
            "36\n",
            "41\n",
            "46\n",
            "51\n",
            "56\n",
            "61\n",
            "66\n",
            "71\n"
          ]
        }
      ]
    },
    {
      "cell_type": "code",
      "source": [
        "t_termo = int(input(\"Informe o terceiro termo da PA: \"))\n",
        "razão = int(input(\"Informe a razão: \"))\n",
        "n = int(input(\"Informe o número de termos a serem descobertos, o valor deve ser maior do que 3: \"))\n",
        "contador = 0\n",
        "while n<=3:\n",
        "  n = int(input(\"Informe o número de termos a serem descobertos, o valor deve ser maior do que 3: \"))\n",
        "print(\"\\nSegue o desenvolvimento da PA:\")\n",
        "print(t_termo - (2*razão))\n",
        "print(t_termo - razão)\n",
        "while contador < (n-2):\n",
        "  contador += 1\n",
        "  PA = t_termo + (contador - 1) * razão\n",
        "  print(PA)"
      ],
      "metadata": {
        "colab": {
          "base_uri": "https://localhost:8080/"
        },
        "id": "QCejUzxscKuN",
        "outputId": "5074d267-3f3c-4c29-acb8-db886eb49f7c"
      },
      "execution_count": null,
      "outputs": [
        {
          "output_type": "stream",
          "name": "stdout",
          "text": [
            "Informe o terceiro termo da PA: 20\n",
            "Informe a razão: 5\n",
            "Informe o número de termos a serem descobertos, o valor deve ser maior do que 3: 2\n",
            "Informe o número de termos a serem descobertos, o valor deve ser maior do que 3: 2\n",
            "Informe o número de termos a serem descobertos, o valor deve ser maior do que 3: 2\n",
            "Informe o número de termos a serem descobertos, o valor deve ser maior do que 3: 2\n",
            "Informe o número de termos a serem descobertos, o valor deve ser maior do que 3: 4\n",
            "\n",
            "Segue o desenvolvimento da PA:\n",
            "10\n",
            "15\n",
            "20\n",
            "25\n"
          ]
        }
      ]
    },
    {
      "cell_type": "code",
      "source": [
        "q_termo = int(input(\"Informe o quarto termo da PA: \"))\n",
        "razão = int(input(\"Informe a razão: \"))\n",
        "n = int(input(\"Informe o número de termos a serem descobertos, o valor deve ser maior do que 4: \"))\n",
        "org = q_termo - (razão*3)\n",
        "contador = 0\n",
        "while n<=4:\n",
        "  n = int(input(\"Informe o número de termos a serem descobertos, o valor deve ser maior do que 4: \"))\n",
        "print(f\"\\nSegue a soma dos termos da PA até o {n} termo:\")\n",
        "while contador < (n-3):\n",
        "  contador += 1\n",
        "  PA = q_termo + (contador-1) * razão\n",
        "RESULTADO = (((PA + org)*n)/2)\n",
        "print(RESULTADO)"
      ],
      "metadata": {
        "colab": {
          "base_uri": "https://localhost:8080/"
        },
        "id": "vXWCRjXtgb70",
        "outputId": "6d73451a-ac0e-44d1-b655-8cbd06bef618"
      },
      "execution_count": null,
      "outputs": [
        {
          "output_type": "stream",
          "name": "stdout",
          "text": [
            "Informe o quarto termo da PA: 25\n",
            "Informe a razão: 5\n",
            "Informe o número de termos a serem descobertos, o valor deve ser maior do que 4: 9\n",
            "\n",
            "Segue a soma dos termos da PA até o 9 termo:\n",
            "270.0\n"
          ]
        }
      ]
    },
    {
      "cell_type": "code",
      "source": [
        "p_termo = int(input(\"Informe o primeiro termo da PG: \"))\n",
        "razão = int(input(\"Informe a razão: \"))\n",
        "n = int(input(\"Informe o número de termos a serem descobertos: \"))\n",
        "contador = 0\n",
        "print(\"\\nSegue o desenvolvimento da PG:\")\n",
        "while contador < n:\n",
        "  contador += 1\n",
        "  PG = p_termo * (razão**(contador - 1))\n",
        "  print(PG)"
      ],
      "metadata": {
        "colab": {
          "base_uri": "https://localhost:8080/"
        },
        "id": "ex9wTOogyQLG",
        "outputId": "27105b8d-0462-4e94-92e6-d58e56fecc29"
      },
      "execution_count": null,
      "outputs": [
        {
          "output_type": "stream",
          "name": "stdout",
          "text": [
            "Informe o primeiro termo da PG: 2\n",
            "Informe a razão: 2\n",
            "Informe o número de termos a serem descobertos: 20\n",
            "\n",
            "Segue o desenvolvimento da PG:\n",
            "2\n",
            "4\n",
            "8\n",
            "16\n",
            "32\n",
            "64\n",
            "128\n",
            "256\n",
            "512\n",
            "1024\n",
            "2048\n",
            "4096\n",
            "8192\n",
            "16384\n",
            "32768\n",
            "65536\n",
            "131072\n",
            "262144\n",
            "524288\n",
            "1048576\n"
          ]
        }
      ]
    },
    {
      "cell_type": "code",
      "source": [
        "t_termo = int(input(\"Informe o terceiro termo da PG: \"))\n",
        "razão = int(input(\"Informe a razão: \"))\n",
        "n = int(input(\"Informe o número de termos a serem descobertos, valor deve ser acima de 3: \"))\n",
        "p_termo = t_termo/(razão**2)\n",
        "while n<=3:\n",
        "  n = int(input(\"Informe o número de termos a serem descobertos, valor deve ser acima de 3: \"))\n",
        "contador = 0\n",
        "print(\"\\nSegue o desenvolvimento da PG:\")\n",
        "pg_2 = (p_termo * (razão))\n",
        "print(f\"{p_termo}\\n{pg_2}\")\n",
        "while contador < (n-2):\n",
        "  contador += 1\n",
        "  PG = t_termo * (razão**(contador - 1))\n",
        "  print(float(PG))\n",
        "print(\"\\nSegue a soma dos termos da PG:\")\n",
        "soma = p_termo*((razão**n)-1)/(razão-1)\n",
        "print(soma)"
      ],
      "metadata": {
        "colab": {
          "base_uri": "https://localhost:8080/"
        },
        "id": "u4cyS6fH01wG",
        "outputId": "8ed69845-c647-4952-c42a-db03fc26cb16"
      },
      "execution_count": null,
      "outputs": [
        {
          "output_type": "stream",
          "name": "stdout",
          "text": [
            "Informe o terceiro termo da PG: 45\n",
            "Informe a razão: 3\n",
            "Informe o número de termos a serem descobertos, valor deve ser acima de 3: 6\n",
            "\n",
            "Segue o desenvolvimento da PG:\n",
            "5.0\n",
            "15.0\n",
            "45.0\n",
            "135.0\n",
            "405.0\n",
            "1215.0\n",
            "\n",
            "Segue a soma dos termos da PG:\n",
            "1820.0\n"
          ]
        }
      ]
    },
    {
      "cell_type": "code",
      "source": [
        "capital = float(input(\"Informe, em reais, seu capital: \"))\n",
        "juros = float(input(\"Informe, em porcentagem, os juros: \"))\n",
        "tempo = float(input(\"Informe, em meses, a duração da aplicação: \"))\n",
        "montante = 0\n",
        "juros=juros/100\n",
        "contador = 0\n",
        "while contador < tempo:\n",
        "  contador+=1\n",
        "  montante = capital * ((1+juros)**contador)\n",
        "  print(f\"Mês {contador}, montante = R${montante:.2f}\")"
      ],
      "metadata": {
        "colab": {
          "base_uri": "https://localhost:8080/"
        },
        "id": "18UrxJV049rk",
        "outputId": "3d9dd775-2163-4f3b-b1a8-55b80e7bdbc2"
      },
      "execution_count": null,
      "outputs": [
        {
          "output_type": "stream",
          "name": "stdout",
          "text": [
            "Informe, em reais, seu capital: 100\n",
            "Informe, em porcentagem, os juros: 5\n",
            "Informe, em meses, o tempo da aplicação: 3\n",
            "Mês 1, montante = R$105.00\n",
            "Mês 2, montante = R$110.25\n",
            "Mês 3, montante = R$115.76\n"
          ]
        }
      ]
    },
    {
      "cell_type": "code",
      "source": [],
      "metadata": {
        "id": "B7EfHEoXDmnS"
      },
      "execution_count": null,
      "outputs": []
    }
  ]
}