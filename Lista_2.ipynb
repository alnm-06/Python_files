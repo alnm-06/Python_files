{
  "nbformat": 4,
  "nbformat_minor": 0,
  "metadata": {
    "colab": {
      "provenance": []
    },
    "kernelspec": {
      "name": "python3",
      "display_name": "Python 3"
    },
    "language_info": {
      "name": "python"
    }
  },
  "cells": [
    {
      "cell_type": "code",
      "execution_count": null,
      "metadata": {
        "id": "dCXhfiY6_dhg"
      },
      "outputs": [],
      "source": []
    },
    {
      "cell_type": "markdown",
      "source": [
        "## Para essa lista, não utilize nenhuma biblioteca ou funções não mostradas em sala"
      ],
      "metadata": {
        "id": "Z3kHxPgBOewf"
      }
    },
    {
      "cell_type": "code",
      "source": [],
      "metadata": {
        "id": "Rnz5Jr6Z_ekQ"
      },
      "execution_count": null,
      "outputs": []
    },
    {
      "cell_type": "markdown",
      "source": [
        "1. Faça um programa que peça números inteiros ao usuário e calcula a média dos valores digitados. O programa deverá parar quando o usuário digitar um número negativo (que não deverá ser incluído no cálculo)."
      ],
      "metadata": {
        "id": "jZB7Gg2ME8H3"
      }
    },
    {
      "cell_type": "code",
      "source": [],
      "metadata": {
        "id": "RVOCoknL_ehW"
      },
      "execution_count": null,
      "outputs": []
    },
    {
      "cell_type": "markdown",
      "source": [
        "2. Faça um programa que peça números inteiros ao usuário e conta quantos números positivos e quantos números negativos foram digitados. O programa deverá parar quando o número zero for digitado, mostrando a tela os resultados."
      ],
      "metadata": {
        "id": "AF_NBZD4E--E"
      }
    },
    {
      "cell_type": "code",
      "source": [],
      "metadata": {
        "id": "1l3CUBd-_eeg"
      },
      "execution_count": null,
      "outputs": []
    },
    {
      "cell_type": "markdown",
      "source": [
        "\n",
        "3. Faça um programa que peça uma nota, entre zero e dez. Mostre uma mensagem caso o valor seja inválido e continue pedindo até que o usuário informe um valor válido."
      ],
      "metadata": {
        "id": "1b4ISCUnFDkJ"
      }
    },
    {
      "cell_type": "markdown",
      "source": [],
      "metadata": {
        "id": "1eFkrfQsOpK4"
      }
    },
    {
      "cell_type": "code",
      "source": [],
      "metadata": {
        "id": "Nop5MLGm_ebz"
      },
      "execution_count": null,
      "outputs": []
    },
    {
      "cell_type": "markdown",
      "source": [
        "\n",
        "4. Faça um programa que peça o valor total de um orçamento (valor igual ou maior do que R$100.00). Então, peça vários valores de serviço até chegar no valor total e mostre na tela o valor de cada serviço que será executado. Note que nem sempre será possível utilizar todo orçamento. Quando o valor do serviço estourar ou consumir todo orçamento, o programa deverá avisar que nenhum outro serviço poderá ser pedido."
      ],
      "metadata": {
        "id": "azFRtBFKFG89"
      }
    },
    {
      "cell_type": "code",
      "source": [],
      "metadata": {
        "id": "QC49dJu5_eZF"
      },
      "execution_count": null,
      "outputs": []
    },
    {
      "cell_type": "markdown",
      "source": [
        "5. Faça um programa que leia e valide as seguintes informações:  \n",
        "    a. Nome: maior que 3 caracteres;  \n",
        "    b. Idade: entre 0 e 150;   \n",
        "    c. Salário: maior que zero;  \n",
        "    d. Sexo: 'f' ou 'm';  \n",
        "    e. Estado Civil: 's', 'c', 'v', 'd';   \n",
        "    \n",
        "    Caso alguma condição seja violada, peça para o usuário entrar novamente o valor.\n",
        "\n",
        "    Use a função len(string) para saber o tamanho de um texto (número de caracteres)."
      ],
      "metadata": {
        "id": "d1K0qgLuFLql"
      }
    },
    {
      "cell_type": "code",
      "source": [],
      "metadata": {
        "id": "MhQFW1LgFLKm"
      },
      "execution_count": null,
      "outputs": []
    },
    {
      "cell_type": "markdown",
      "source": [
        "6. Faça um programa que peça dois números inteiros positivos, base e expoente, calcule e mostre o primeiro número elevado ao segundo número. Não utilize a função ou o operador de potência da linguagem. (faça esse programa utilizando o while)"
      ],
      "metadata": {
        "id": "yNVzswkjFTFE"
      }
    },
    {
      "cell_type": "code",
      "source": [],
      "metadata": {
        "id": "XC7Odp_LFLIL"
      },
      "execution_count": null,
      "outputs": []
    },
    {
      "cell_type": "markdown",
      "source": [
        "7. Faça um programa que peça um número inteiro e mostre a tabuada desse número na tela. Faça utilizando o for. (Essa tarefa poderia ser feita utilizando o while? Por quê?)"
      ],
      "metadata": {
        "id": "DmHku2PQGWdP"
      }
    },
    {
      "cell_type": "code",
      "source": [],
      "metadata": {
        "id": "S8pNqfJCFLGP"
      },
      "execution_count": 3,
      "outputs": []
    },
    {
      "cell_type": "markdown",
      "source": [
        "8. Faça um programa que peça um número inteiro positivo n e mostre os n primeiros números da sequência de Fibonacci.\n"
      ],
      "metadata": {
        "id": "5CmPnnXOGxrv"
      }
    },
    {
      "cell_type": "code",
      "source": [],
      "metadata": {
        "id": "NLQuz53yFLD9"
      },
      "execution_count": null,
      "outputs": []
    },
    {
      "cell_type": "markdown",
      "source": [
        "9. Faça um programa que peça um número inteiro não negativo n e mostre o valor de n fatorial (n!)."
      ],
      "metadata": {
        "id": "_68EdPiEHQNU"
      }
    },
    {
      "cell_type": "code",
      "source": [],
      "metadata": {
        "id": "IsYu8PnyFLBR"
      },
      "execution_count": null,
      "outputs": []
    },
    {
      "cell_type": "markdown",
      "source": [
        "10. Faça um programa que peça um número inteiro e determine se esse número é um número primo. (Um número é primo se ele for divisível somente por ele mesmo e por 1)."
      ],
      "metadata": {
        "id": "idPGZDK9HkLF"
      }
    },
    {
      "cell_type": "code",
      "source": [],
      "metadata": {
        "id": "Uxo8UEb7FK-i"
      },
      "execution_count": null,
      "outputs": []
    },
    {
      "cell_type": "markdown",
      "source": [
        "11. Faça um programa que peça dois números inteiros positivos e mostra o máximo divisor comum (MDC) e o mínimo múltiplo comum (MMC) desses números."
      ],
      "metadata": {
        "id": "LiN-wnyRMoOi"
      }
    },
    {
      "cell_type": "code",
      "source": [],
      "metadata": {
        "id": "MPZDueOFFK8E"
      },
      "execution_count": 7,
      "outputs": []
    },
    {
      "cell_type": "markdown",
      "source": [
        "12. Faça um programa que peça a razão e primeiro termo de uma PA (progressão aritmética). Peça um número inteiro positivo n e mostra os n primeiros termos dessa PA."
      ],
      "metadata": {
        "id": "U83IiC1VM6dc"
      }
    },
    {
      "cell_type": "code",
      "source": [],
      "metadata": {
        "id": "E1lkmJ0nM6L3"
      },
      "execution_count": null,
      "outputs": []
    },
    {
      "cell_type": "markdown",
      "source": [
        "13. Faça um programa que peça a razão e terceiro termo de uma PA (progressão aritmética). Peça um número inteiro positivo n (maior do que 3) e mostra os n primeiros termos dessa PA."
      ],
      "metadata": {
        "id": "aJH4EAojNlHq"
      }
    },
    {
      "cell_type": "code",
      "source": [],
      "metadata": {
        "id": "lt_ClxbqNzlW"
      },
      "execution_count": null,
      "outputs": []
    },
    {
      "cell_type": "markdown",
      "source": [
        "14. Faça um programa que peça a razão e quarto termo de uma PA (progressão aritmética). Peça um número inteiro positivo n e mostra a soma dos n primeiros termos dessa PA."
      ],
      "metadata": {
        "id": "EBeJ8-ufNxLU"
      }
    },
    {
      "cell_type": "code",
      "source": [],
      "metadata": {
        "id": "MN9jTh8rNoYw"
      },
      "execution_count": null,
      "outputs": []
    },
    {
      "cell_type": "markdown",
      "source": [
        "15. Faça um programa que peça a razão e primeiro termo de uma PG (progressão geométrica). Peça um número inteiro positivo n e mostra os n primeiros termos dessa PG."
      ],
      "metadata": {
        "id": "e8XG0-muNc82"
      }
    },
    {
      "cell_type": "code",
      "source": [],
      "metadata": {
        "id": "IWuwt1CANoVT"
      },
      "execution_count": null,
      "outputs": []
    },
    {
      "cell_type": "markdown",
      "source": [
        "16. Faça um programa que peça a razão e terceiro termo de uma PG (progressão geométrica). Peça um número inteiro positivo n (maior do que 3) e mostra os n primeiros termos e a soma dos n primeiros termos dessa PG."
      ],
      "metadata": {
        "id": "OIGtwqcDOFlS"
      }
    },
    {
      "cell_type": "code",
      "source": [],
      "metadata": {
        "id": "AdtltL0oNoR1"
      },
      "execution_count": null,
      "outputs": []
    },
    {
      "cell_type": "markdown",
      "source": [
        "17. Faça um programa que peça o valor presente (capital inicial), a taxa de juros mensais (i) e o período em meses(n). Então, o programa deve calcular e mostrar a evolução do valor futuro (montante) a cada um dos n meses."
      ],
      "metadata": {
        "id": "SSZ1RDCZOE0U"
      }
    },
    {
      "cell_type": "code",
      "source": [],
      "metadata": {
        "id": "aSbMohoPPVTQ"
      },
      "execution_count": null,
      "outputs": []
    },
    {
      "cell_type": "markdown",
      "source": [
        "18. Faça um programa que pede o valor que será depositado todos o meses, o valor da taxa de juros mensal e o total de meses (n) . O programa deverá mostrar na tela o valor do montante e o valor dos juros em cada um dos n meses."
      ],
      "metadata": {
        "id": "Ru07Ip92PQaj"
      }
    },
    {
      "cell_type": "code",
      "source": [],
      "metadata": {
        "id": "PimDkbIHOsNb"
      },
      "execution_count": null,
      "outputs": []
    },
    {
      "cell_type": "markdown",
      "source": [
        "19. Faça um programa que pede o número n de provas e as n notas e calcula a média e o desvio padrão dessas notas."
      ],
      "metadata": {
        "id": "VwM0pkrrGmrp"
      }
    },
    {
      "cell_type": "code",
      "source": [],
      "metadata": {
        "id": "SNU2-aUGM6IR"
      },
      "execution_count": null,
      "outputs": []
    },
    {
      "cell_type": "markdown",
      "source": [
        "20. Faça um programa que peça um número inteiro positivo e mostra esse número no sistema binário."
      ],
      "metadata": {
        "id": "vi2enrhTJYLc"
      }
    },
    {
      "cell_type": "code",
      "source": [],
      "metadata": {
        "id": "p27r_CSPM6FW"
      },
      "execution_count": 7,
      "outputs": []
    },
    {
      "cell_type": "code",
      "source": [],
      "metadata": {
        "id": "esbcSv8uM6CI"
      },
      "execution_count": null,
      "outputs": []
    },
    {
      "cell_type": "code",
      "source": [],
      "metadata": {
        "id": "cH8TN_sbFK5U"
      },
      "execution_count": 7,
      "outputs": []
    },
    {
      "cell_type": "code",
      "source": [],
      "metadata": {
        "id": "RRZDeToTFK2Y"
      },
      "execution_count": null,
      "outputs": []
    },
    {
      "cell_type": "code",
      "source": [],
      "metadata": {
        "id": "nuMTnHU1FKzU"
      },
      "execution_count": null,
      "outputs": []
    },
    {
      "cell_type": "code",
      "source": [],
      "metadata": {
        "id": "s0hUDaGiFKwb"
      },
      "execution_count": null,
      "outputs": []
    },
    {
      "cell_type": "code",
      "source": [],
      "metadata": {
        "id": "I8s7JjiCFKtR"
      },
      "execution_count": null,
      "outputs": []
    },
    {
      "cell_type": "code",
      "source": [],
      "metadata": {
        "id": "EUJtq8y9FKTU"
      },
      "execution_count": null,
      "outputs": []
    },
    {
      "cell_type": "code",
      "source": [],
      "metadata": {
        "id": "MSN-A2kx_eWB"
      },
      "execution_count": null,
      "outputs": []
    },
    {
      "cell_type": "code",
      "source": [],
      "metadata": {
        "id": "DnZLBgOD_eT7"
      },
      "execution_count": null,
      "outputs": []
    }
  ]
}