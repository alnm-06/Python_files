{
  "nbformat": 4,
  "nbformat_minor": 0,
  "metadata": {
    "colab": {
      "provenance": []
    },
    "kernelspec": {
      "name": "python3",
      "display_name": "Python 3"
    },
    "language_info": {
      "name": "python"
    }
  },
  "cells": [
    {
      "cell_type": "code",
      "execution_count": null,
      "metadata": {
        "colab": {
          "base_uri": "https://localhost:8080/"
        },
        "id": "JNcZ65T15lPa",
        "outputId": "608a303d-b3a1-49e0-e276-ac629a2d4506"
      },
      "outputs": [
        {
          "output_type": "stream",
          "name": "stdout",
          "text": [
            "Informe seu preimeiro nome: André\n",
            "André\n"
          ]
        }
      ],
      "source": [
        "n= input(\"Informe seu primeiro nome: \")\n",
        "print(f\"{n}\")"
      ]
    },
    {
      "cell_type": "code",
      "source": [
        "n= input(\"Informe seu primeiro nome: \")\n",
        "n1 = input(\"Informe seu último sobrenome: \")\n",
        "print(f\"{n} e {n1}\")"
      ],
      "metadata": {
        "colab": {
          "base_uri": "https://localhost:8080/"
        },
        "id": "suqvPRAI672w",
        "outputId": "2cc751c2-69d2-4f57-8845-5495359168ac"
      },
      "execution_count": null,
      "outputs": [
        {
          "output_type": "stream",
          "name": "stdout",
          "text": [
            "Informe seu primeiro nome: 1\n",
            "Informe seu último sobrenome: 2\n",
            "1 2\n"
          ]
        }
      ]
    },
    {
      "cell_type": "code",
      "source": [
        "print(\"\"\"\n",
        "|     |\n",
        " |   |\n",
        "  | |\n",
        "   |\n",
        "  | |\n",
        " |   |\n",
        "|     |\n",
        "\"\"\")"
      ],
      "metadata": {
        "colab": {
          "base_uri": "https://localhost:8080/"
        },
        "id": "bbkDETjs7ieT",
        "outputId": "267fe8d4-db9d-4a0a-dad2-91204b6d957b"
      },
      "execution_count": null,
      "outputs": [
        {
          "output_type": "stream",
          "name": "stdout",
          "text": [
            "\n",
            "|     |\n",
            " |   |\n",
            "  | |\n",
            "   |\n",
            "  | |\n",
            " |   |\n",
            "|     |\n",
            "\n"
          ]
        }
      ]
    },
    {
      "cell_type": "code",
      "source": [
        "dia_hj = 31\n",
        "mes_hj = 3\n",
        "mes = int(input(\"Informe o mês do seu aniversário:\"))\n",
        "dia = int(input(\"Informe o dia do seu aniversário:\"))\n",
        "mes == mes_hj\n",
        "dia == dia_hj\n",
        "\n",
        "\n",
        "if mes == 3:\n",
        "    qt_dias = 31 - dia\n",
        "\n",
        "    if qt_dias == 0:\n",
        "        print(\"Feliz aniversário!\")\n",
        "    else:\n",
        "        print(f\"Passaram {qt_dias} dias do seu aniversário.\")\n",
        "elif mes == 2:\n",
        "    qt_dias = 31 + 28 - dia\n",
        "    print(f\"Passaram {qt_dias} dias do seu aniversário.\")\n",
        "elif mes == 1:\n",
        "    qt_dias = 31 + 28 + 31 - dia\n",
        "    print(f\"Passaram {qt_dias} dias do seu aniversário.\")\n",
        "elif mes == 4:\n",
        "    qt_dias = dia # abril\n",
        "    print(f\"Faltam {qt_dias} dias para o seu seu aniversário.\")\n",
        "elif mes == 5:\n",
        "    qt_dias = 30 + dia # abril + maio\n",
        "    print(f\"Faltam {qt_dias} dias para o seu seu aniversário.\")\n",
        "elif mes == 6:\n",
        "    qt_dias = 30 + 31 + dia # abril + maio + junho\n",
        "    print(f\"Faltam {qt_dias} dias para o seu seu aniversário.\")\n",
        "elif mes == 7:\n",
        "    qt_dias = 30 + 31 + 30 + dia\n",
        "    print(f\"Faltam {qt_dias} dias para o seu seu aniversário.\")\n",
        "elif mes == 8:\n",
        "    qt_dias = 30 + 31 + 30 + 31+ dia\n",
        "    print(f\"Faltam {qt_dias} dias para o seu seu aniversário.\")\n",
        "elif mes == 9:\n",
        "    qt_dias = 30 + 31 + 30 + 31 + 31 + dia\n",
        "    print(f\"Faltam {qt_dias} dias para o seu seu aniversário.\")\n",
        "elif mes == 10:\n",
        "    qt_dias = 30 + 31 + 30 + 31 + 31 + 30 + dia\n",
        "    print(f\"Faltam {qt_dias} dias para o seu seu aniversário.\")\n",
        "elif mes == 11:\n",
        "    qt_dias = 30 + 31 + 30 + 31 + 31 + 30 + 31 + dia\n",
        "    print(f\"Faltam {qt_dias} dias para o seu seu aniversário.\")\n",
        "elif mes == 12:\n",
        "    qt_dias = 30 + 31 + 30 + 31 + 31 + 30 + 31 + 30 + dia\n",
        "    print(f\"Faltam {qt_dias} dias para o seu seu aniversário.\")"
      ],
      "metadata": {
        "colab": {
          "base_uri": "https://localhost:8080/"
        },
        "id": "MsMJnfr-85bk",
        "outputId": "e4b6b0fc-b30c-4993-9a98-fdd62e49b190"
      },
      "execution_count": null,
      "outputs": [
        {
          "output_type": "stream",
          "name": "stdout",
          "text": [
            "Informe o mês do seu aniversário:3\n",
            "Informe o dia do seu aniversário:31\n",
            "Feliz aniversário!\n"
          ]
        }
      ]
    },
    {
      "cell_type": "code",
      "source": [
        "\n",
        "p = float (input(\"informe o valor do produto: R$ \"))\n",
        "pd=  (p/100)\n",
        "d = p/100\n",
        "de = d*20\n",
        "pde = pd*80\n",
        "pdes= round(pde,2)\n",
        "des= round(de,2)\n",
        "\n",
        "\n",
        "print(f\"\"\"\n",
        "______________________________________\n",
        "PREÇO  | V. DO DESCONTO | NOVO VALOR |\n",
        "R${p}|   R${des}       |  R${pdes}    |\n",
        "_______|________________|____________|\n",
        "\n",
        "\"\"\")"
      ],
      "metadata": {
        "colab": {
          "base_uri": "https://localhost:8080/"
        },
        "id": "oYJ49z8GIfz9",
        "outputId": "bf7dd713-da1d-4408-9440-e2efe1ec2896"
      },
      "execution_count": null,
      "outputs": [
        {
          "output_type": "stream",
          "name": "stdout",
          "text": [
            "informe o valor do produto: R$ 10.55\n",
            "10.55\n",
            "0.10550000000000001 2.11 0.10550000000000001 8.44\n",
            "\n",
            "______________________________________\n",
            "PREÇO  | V. DO DESCONTO | NOVO VALOR |\n",
            "R$10.55|   R$2.11       |  R$8.44    |\n",
            "_______|________________|____________|\n",
            "\n",
            "\n"
          ]
        }
      ]
    },
    {
      "cell_type": "code",
      "source": [
        "p = float (input(\"informe o valor do produto: R$ \"))\n",
        "d = float (input(\"informe a porcentagem do desconto:  \"))\n",
        "des = d/100\n",
        "v_des = p*des\n",
        "n_valor = p - round(v_des , 2)\n",
        "print(f\"Novo preço R${round(n_valor , 2)} e valor do desconto em R$ {(round (v_des , 2))}\")"
      ],
      "metadata": {
        "colab": {
          "base_uri": "https://localhost:8080/"
        },
        "id": "O3wKpNlC_Uq7",
        "outputId": "ce2e701a-04d3-4ad6-f309-d753e96dde30"
      },
      "execution_count": null,
      "outputs": [
        {
          "output_type": "stream",
          "name": "stdout",
          "text": [
            "informe o valor do produto: R$ 80\n",
            "informe a porcentagem do desconto:  20\n",
            "64.0 16.0\n"
          ]
        }
      ]
    },
    {
      "cell_type": "code",
      "source": [
        "p = float (input(\"INFORME UM NÚMERO: \"))\n",
        "D = float (input(\"INFORME UM NÚMERO: \"))\n",
        "C = float (input(\"INFORME UM NÚMERO: \"))\n",
        "m_ar = (p+D+C)/3\n",
        "print(f\"A média aritmética é: {m_ar}\")"
      ],
      "metadata": {
        "colab": {
          "base_uri": "https://localhost:8080/"
        },
        "id": "bKWBIUQOBPab",
        "outputId": "ec43f257-3083-4a7f-9227-eb70365304e1"
      },
      "execution_count": null,
      "outputs": [
        {
          "output_type": "stream",
          "name": "stdout",
          "text": [
            "INFORME UM NÚMERO: 2780.85\n",
            "INFORME UM NÚMERO: 3977\n",
            "INFORME UM NÚMERO: 0.89\n",
            "A média aritmética é: 2252.9133333333334\n"
          ]
        }
      ]
    },
    {
      "cell_type": "code",
      "source": [
        "p = float (input(\"INFORME UM NÚMERO: \"))\n",
        "D = float (input(\"INFORME UM NÚMERO: \"))\n",
        "C = float (input(\"INFORME UM NÚMERO: \"))\n",
        "g = float (input(\"INFORME UM NÚMERO: \"))\n",
        "if p<0 or D <0 or C<0 or g<0:\n",
        "  print(\"Informe apenas números positivos\")\n",
        "else:\n",
        "  m_ar = (p+D+C+g)/4\n",
        "  m_geo = (p*D*C*g)**(1/4)\n",
        "  m_har = 4 / ((1/p)+(1/D)+(1/C)+(1/g))\n",
        "  print(f\"A média aritmética é: {m_ar}\")\n",
        "  print(f\"A média geométrica é: {m_geo}\")\n",
        "  print(f\"A média harmônica é: {m_har}\")"
      ],
      "metadata": {
        "colab": {
          "base_uri": "https://localhost:8080/"
        },
        "id": "epDLg7saCLf7",
        "outputId": "7971db18-c08b-4534-a6bd-55560f5cec6e"
      },
      "execution_count": null,
      "outputs": [
        {
          "output_type": "stream",
          "name": "stdout",
          "text": [
            "INFORME UM NÚMERO: 10\n",
            "INFORME UM NÚMERO: 20\n",
            "INFORME UM NÚMERO: 30\n",
            "INFORME UM NÚMERO: 40\n",
            "A média aritmética é: 25.0\n",
            "A média geométrica é: 22.133638394006432\n",
            "A média aritmética é: 19.2\n"
          ]
        }
      ]
    },
    {
      "cell_type": "code",
      "source": [
        "p = float (input(\"INFORME UM NÚMERO: \"))\n",
        "D = float (input(\"INFORME UM NÚMERO: \"))\n",
        "C = float (input(\"INFORME UM NÚMERO: \"))\n",
        "g = float (input(\"INFORME UM NÚMERO: \"))\n",
        "\n",
        "m_ar = (p+D+C+g)/3\n",
        "v_amos = (((p - m_ar)**2)+((D - m_ar)**2)+((C - m_ar)**2)+((g - m_ar)**2))/4-1\n",
        "v_pop = (((p - m_ar)**2)+((D - m_ar)**2)+((C - m_ar)**2)+((g - m_ar)**2))/4\n",
        "dp = (v_pop)**(1/2)\n",
        "print(f\"\"\"A média aritmética é: {m_ar}\n",
        "A variância amostral é: {v_amos}\n",
        "A variância populacional é: {v_pop}\n",
        "O desvio padrão é: {dp} \"\"\")"
      ],
      "metadata": {
        "colab": {
          "base_uri": "https://localhost:8080/"
        },
        "id": "Sq1jrlq4EvAZ",
        "outputId": "b66c4dfc-990a-429c-e939-7e63571b63e2"
      },
      "execution_count": null,
      "outputs": [
        {
          "output_type": "stream",
          "name": "stdout",
          "text": [
            "INFORME UM NÚMERO: 10\n",
            "INFORME UM NÚMERO: 20\n",
            "INFORME UM NÚMERO: 30\n",
            "INFORME UM NÚMERO: 40\n",
            "A média aritmética é: 33.333333333333336\n",
            "A variância amostral é: 193.44444444444449\n",
            "A variância populacional é: 194.44444444444449 \n",
            "O desvio padrão é: 13.944333775567927 \n"
          ]
        }
      ]
    },
    {
      "cell_type": "code",
      "source": [
        "p = float (input(\"INFORME UM NÚMERO: \"))\n",
        "D = float (input(\"INFORME UM NÚMERO: \"))\n",
        "C = float (input(\"INFORME UM NÚMERO: \"))\n",
        "if p==C==D:\n",
        "  print(\"não há um maior número\")\n",
        "elif p >D >= C:\n",
        "  print(f\"{p} é o maior número\")\n",
        "elif D > p >= C:\n",
        "  print(f\"{D} é o maior número\")\n",
        "else:\n",
        "    print(f\"{C} é o maior número\")"
      ],
      "metadata": {
        "colab": {
          "base_uri": "https://localhost:8080/"
        },
        "collapsed": true,
        "id": "Brz4OZTPGxG7",
        "outputId": "219a034c-6cd8-43ab-ffed-098d6f80fb06"
      },
      "execution_count": null,
      "outputs": [
        {
          "output_type": "stream",
          "name": "stdout",
          "text": [
            "INFORME UM NÚMERO: 2\n",
            "INFORME UM NÚMERO: 1\n",
            "INFORME UM NÚMERO: 0\n",
            "2.0 é o maior número\n"
          ]
        }
      ]
    },
    {
      "cell_type": "code",
      "source": [
        "p = float (input(\"INFORME UM NÚMERO: \"))\n",
        "D = float (input(\"INFORME UM NÚMERO: \"))\n",
        "C = float (input(\"INFORME UM NÚMERO: \"))\n",
        "if p==C==D:\n",
        "  print(p , C, D)\n",
        "elif p >D > C:\n",
        "  print(C , D, p)\n",
        "elif p > C >D:\n",
        "  print(D , C, p)\n",
        "elif D > p > C:\n",
        "  print(C , p, D)\n",
        "elif D > C > p:\n",
        "  print(C , p, D)\n",
        "elif C > D > p :\n",
        "  print(p , D, C)\n",
        "else:\n",
        "    print(D , p, C)"
      ],
      "metadata": {
        "colab": {
          "base_uri": "https://localhost:8080/"
        },
        "id": "cXK3pmP3NgDt",
        "outputId": "58120f7c-4b82-451d-9878-1056b1f5d9f8"
      },
      "execution_count": null,
      "outputs": [
        {
          "output_type": "stream",
          "name": "stdout",
          "text": [
            "INFORME UM NÚMERO: 2\n",
            "INFORME UM NÚMERO: 1\n",
            "INFORME UM NÚMERO: 3\n",
            "1.0 2.0 3.0\n"
          ]
        }
      ]
    },
    {
      "cell_type": "code",
      "source": [
        "p =(input(\"INFORME UMA LETRA: \")).lower()\n",
        "D =(input(\"INFORME UMA LETRA: \")).lower()\n",
        "C =(input(\"INFORME UMA LETRA: \")).lower()\n",
        "if p==C==D:\n",
        "  print(p , C, D)\n",
        "elif p >D > C:\n",
        "  print(C , D, p)\n",
        "elif p > C >D:\n",
        "  print(D , C, p)\n",
        "elif D > p > C:\n",
        "  print(C , p, D)\n",
        "elif D > C > p:\n",
        "  print(C , p, D)\n",
        "elif C > D > p :\n",
        "  print(p , D, C)\n",
        "else:\n",
        "    print(D , p, C)"
      ],
      "metadata": {
        "colab": {
          "base_uri": "https://localhost:8080/"
        },
        "id": "Kb1JrmgWaMKg",
        "outputId": "7637d9d4-9b05-4ded-fed2-33192506728d"
      },
      "execution_count": null,
      "outputs": [
        {
          "output_type": "stream",
          "name": "stdout",
          "text": [
            "INFORME UMA LETRA: ab\n",
            "INFORME UMA LETRA: ac\n",
            "INFORME UMA LETRA: ad\n",
            "ab ac ad\n"
          ]
        }
      ]
    },
    {
      "cell_type": "code",
      "source": [
        "peso = float(input(\"INFORME SEU PESO (EM KG): \"))\n",
        "altura = float(input(\"INFORME SUA ALTURA (EM CM): \"))\n",
        "idade = float(input(\"INFORME SUA IDADE: \"))\n",
        "sexo = (input(\"INFORME SEU GENÊRO (MASCULINO/FEMININO): \")).lower()\n",
        "if sexo == \"masculino\":\n",
        "  TMB = 66.47 + (13.75 * peso) + (5.003 * altura) - (6.755 * idade)\n",
        "  print(f\"Seu TMB é: {TMB}\")\n",
        "else:\n",
        "  TMB = 655.09 + (9.563 * peso) + (1.85 * altura) - (4.676 * idade )\n",
        "  print(f\"Seu TMB é: {TMB}\")"
      ],
      "metadata": {
        "id": "FyRbqno3bfDu",
        "colab": {
          "base_uri": "https://localhost:8080/"
        },
        "outputId": "d6b5257e-1b9b-4566-a2a5-d041b137049b"
      },
      "execution_count": null,
      "outputs": [
        {
          "output_type": "stream",
          "name": "stdout",
          "text": [
            "INFORME SEU PESO (EM KG): 80\n",
            "INFORME SUA ALTURA (EM CM): 184\n",
            "INFORME SUA IDADE: 18\n",
            "INFORME SEU GENÊRO: homem\n",
            "Seu TMB é: 1965.432\n"
          ]
        }
      ]
    },
    {
      "cell_type": "code",
      "source": [
        "p = int (input(\"INFORME UM NÚMERO: \"))\n",
        "a = p * 0\n",
        "b = p * 1\n",
        "c = p * 2\n",
        "d = p * 3\n",
        "e = p * 4\n",
        "f = p * 5\n",
        "g = p * 6\n",
        "h = p * 7\n",
        "i = p * 8\n",
        "j = p * 9\n",
        "k = p * 10\n",
        "print(f\"A tabuada do número {p}\\n{p} X {0:02d}  = {a:02d}\\n{p} X {1:02d}  = {b:02d}\\n{p} X {2:02d}  = {c:02d}\\n{p} X {3:02d}  = {d:02d}\\n{p} X {4:02d}  = {e:02d}\\n{p} X {5:02d}  = {f:2d}\\n{p} X {6:02d}  = {g:2d}\\n{p} X {7:02d}  = {h:2d}\\n{p} X {8:02d}  = {i:2d}\\n{p} X {9:02d}  = {j:2d}\\n{p} X {10:2d}  = {k:2d}\")"
      ],
      "metadata": {
        "id": "yHiU4BntbfCv",
        "colab": {
          "base_uri": "https://localhost:8080/"
        },
        "outputId": "c93b4de9-60f3-4164-a2c5-eae0f00c9c78"
      },
      "execution_count": null,
      "outputs": [
        {
          "output_type": "stream",
          "name": "stdout",
          "text": [
            "INFORME UM NÚMERO: 2\n",
            "A tabuada do número 2\n",
            "2 X 00  = 00\n",
            "2 X 01  = 02\n",
            "2 X 02  = 04\n",
            "2 X 03  = 06\n",
            "2 X 04  = 08\n",
            "2 X 05  = 10\n",
            "2 X 06  = 12\n",
            "2 X 07  = 14\n",
            "2 X 08  = 16\n",
            "2 X 09  = 18\n",
            "2 X 10  = 20\n"
          ]
        }
      ]
    }
  ]
}